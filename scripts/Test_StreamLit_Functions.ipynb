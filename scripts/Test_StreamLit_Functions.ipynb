{
 "cells": [
  {
   "cell_type": "code",
   "execution_count": 1,
   "id": "4d410b12",
   "metadata": {},
   "outputs": [],
   "source": [
    "import wikipedia\n",
    "import requests\n",
    "import json\n",
    "from PIL import Image"
   ]
  },
  {
   "cell_type": "code",
   "execution_count": 2,
   "id": "92b58d4b",
   "metadata": {},
   "outputs": [],
   "source": [
    "WIKI_REQUEST = 'http://en.wikipedia.org/w/api.php?action=query&prop=pageimages&format=json&piprop=original&titles='"
   ]
  },
  {
   "cell_type": "code",
   "execution_count": 3,
   "id": "66fc37ed",
   "metadata": {},
   "outputs": [],
   "source": [
    "url='https://en.wikipedia.org/w/api.php'"
   ]
  },
  {
   "cell_type": "code",
   "execution_count": 4,
   "id": "1709c00b",
   "metadata": {},
   "outputs": [],
   "source": [
    "def get_wiki_image(search_term):\n",
    "    try:\n",
    "        result = wikipedia.search(search_term, results = 1)\n",
    "        wikipedia.set_lang('en')\n",
    "        wkpage = wikipedia.WikipediaPage(title = result[0])\n",
    "        title = wkpage.title\n",
    "        response  = requests.get(WIKI_REQUEST+title)\n",
    "        json_data = json.loads(response.text)\n",
    "        img_link = list(json_data['query']['pages'].values())[0]['original']['source']\n",
    "        return img_link\n",
    "    except:\n",
    "        return 0"
   ]
  },
  {
   "cell_type": "code",
   "execution_count": 5,
   "id": "e4afad7c",
   "metadata": {},
   "outputs": [
    {
     "data": {
      "text/plain": [
       "'https://upload.wikimedia.org/wikipedia/commons/3/32/Amanita_muscaria_3_vliegenzwammen_op_rij.jpg'"
      ]
     },
     "execution_count": 5,
     "metadata": {},
     "output_type": "execute_result"
    }
   ],
   "source": [
    "get_wiki_image(\"Amanita muscaria\")"
   ]
  },
  {
   "cell_type": "code",
   "execution_count": 8,
   "id": "ab65c142",
   "metadata": {},
   "outputs": [],
   "source": [
    "def Wiki_Api(mushroom_name):\n",
    "    mushroom_dict = {}\n",
    "    params={\n",
    "    'action':'query',\n",
    "    'format':'json',\n",
    "    'titles':mushroom_name,\n",
    "    'prop':'revisions',\n",
    "    'rvsection':0,\n",
    "    'rvprop':'content'}\n",
    "    #Inital response from Wiki web page\n",
    "    response=requests.get(url,params).json()\n",
    "    #Find key for Json\n",
    "    key = list(response['query']['pages'].keys())[0]\n",
    "    lines = response['query']['pages'][key]['revisions'][0]['*'].split('\\n')\n",
    "    cap_counter  =0\n",
    "    for line in lines:\n",
    "        if 'howEdible' in line:\n",
    "            mushroom_dict[\"howEdible\"] = line.split('=')[1].strip(\" \").strip(\"}\")\n",
    "        if 'whichGills' in line:\n",
    "            mushroom_dict[\"whichGills\"] = line.split('=')[1].strip(\" \")\n",
    "        if 'capShape' in line and cap_counter==0:\n",
    "            mushroom_dict[\"capShape\"] = line.split('=')[1].strip(\" \")\n",
    "            cap_counter += 1\n",
    "\n",
    "    return (mushroom_dict)"
   ]
  },
  {
   "cell_type": "code",
   "execution_count": 28,
   "id": "57b0a4d3",
   "metadata": {},
   "outputs": [],
   "source": [
    "def pic_to_dict(dic_item):\n",
    "    folder_loc = \"Wiki_images\" #where we will retrieve the files from\n",
    "    full_loc = f\"Wiki_images/{dic_item}.jpeg\"\n",
    "    im = Image.open(full_loc)\n",
    "    size = 126,126\n",
    "    im.thumbnail(size)\n",
    "    return full_loc"
   ]
  },
  {
   "cell_type": "code",
   "execution_count": 32,
   "id": "c93b1535",
   "metadata": {},
   "outputs": [
    {
     "data": {
      "image/png": "[encoded data removed]",
      "text/plain": [
       "<PIL.JpegImagePlugin.JpegImageFile image mode=RGB size=125x106 at 0x7FFB81065910>"
      ]
     },
     "execution_count": 32,
     "metadata": {},
     "output_type": "execute_result"
    }
   ],
   "source": [
    "pic_to_dict(Wiki_Api(preidction)[\"capShape\"])\n",
    "Image.open(pic_to_dict(Wiki_Api(preidction)[\"capShape\"]))"
   ]
  },
  {
   "cell_type": "code",
   "execution_count": 23,
   "id": "f3d4d150",
   "metadata": {},
   "outputs": [],
   "source": [
    "preidction=\"Amanita muscaria\""
   ]
  },
  {
   "cell_type": "code",
   "execution_count": 33,
   "id": "fd63ea5e",
   "metadata": {},
   "outputs": [
    {
     "name": "stdout",
     "output_type": "stream",
     "text": [
      "The Wiki_Api call worked\n",
      "The Wiki_Api call worked\n",
      "There was an error in the call\n"
     ]
    }
   ],
   "source": [
    "try:\n",
    "    if not Wiki_Api(preidction)[\"capShape\"]:\n",
    "        print('The api call did not work')\n",
    "        pass\n",
    "    else:\n",
    "        print('The Wiki_Api call worked')\n",
    "        expander_info = expander_cols[0].expander(\"Cap Shape:\")\n",
    "        print('The Wiki_Api call worked')\n",
    "        im3= Image.open(pic_to_dict(Wiki_Api(preidction)[\"capShape\"]))\n",
    "        im3.thumbnail(size)\n",
    "        print('The Wiki_Api call worked')\n",
    "        expander_info.image(im3)\n",
    "        expander_hydro = expander_cols[1].expander(\"Hymenium Shape:\")\n",
    "        im4= Image.open(pic_to_dict(Wiki_Api(preidction)[\"whichGills\"]))\n",
    "        im4.thumbnail(size)\n",
    "        expander_hydro.image(im4)\n",
    "        expander_ed = expander_cols[2].expander(\"Edible:\")\n",
    "        im5= Image.open(pic_to_dict(Wiki_Api(preidction)[\"howEdible\"]))\n",
    "        im5.thumbnail(size)\n",
    "        expander_ed.image(im5)\n",
    "        expander_interesting = st.expander('interesing info')\n",
    "        expander_interesting.write('''A. muscaria was used by both shamans and laypeople alike, and was used recreationally as well as religiously. In eastern Siberia,\n",
    "                                      the shaman would take the mushrooms, and others would drink his urine. This urine, still containing psychoactive elements,\n",
    "                                      may be more potent than the A. muscaria mushrooms with fewer\n",
    "                                      negative effects such as sweating and twitching, suggesting that the initial user may act as a screening\n",
    "                                      filter for other components in the mushroom.''')\n",
    "except:\n",
    "    print('There was an error in the call')\n",
    "    pass"
   ]
  },
  {
   "cell_type": "code",
   "execution_count": 14,
   "id": "27e2607b",
   "metadata": {},
   "outputs": [
    {
     "data": {
      "text/plain": [
       "'flat'"
      ]
     },
     "execution_count": 14,
     "metadata": {},
     "output_type": "execute_result"
    }
   ],
   "source": [
    "Wiki_Api(\"Amanita muscaria\")[\"capShape\"]"
   ]
  },
  {
   "cell_type": "code",
   "execution_count": null,
   "id": "1b2f9569",
   "metadata": {},
   "outputs": [],
   "source": []
  }
 ],
 "metadata": {
  "kernelspec": {
   "display_name": "Python 3 (ipykernel)",
   "language": "python",
   "name": "python3"
  },
  "language_info": {
   "codemirror_mode": {
    "name": "ipython",
    "version": 3
   },
   "file_extension": ".py",
   "mimetype": "text/x-python",
   "name": "python",
   "nbconvert_exporter": "python",
   "pygments_lexer": "ipython3",
   "version": "3.8.5"
  }
 },
 "nbformat": 4,
 "nbformat_minor": 5
}
